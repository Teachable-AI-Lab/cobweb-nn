{
 "cells": [
  {
   "cell_type": "code",
   "execution_count": 2,
   "metadata": {},
   "outputs": [],
   "source": [
    "import json\n",
    "import torch\n",
    "import numpy as np\n",
    "import base64\n",
    "import matplotlib.pyplot as plt\n",
    "from io import BytesIO\n",
    "import random\n",
    "\n"
   ]
  },
  {
   "cell_type": "code",
   "execution_count": 4,
   "metadata": {},
   "outputs": [
    {
     "name": "stderr",
     "output_type": "stream",
     "text": [
      "/var/folders/20/sbb3zm0s7t93v_80z1k489v00000gp/T/ipykernel_6642/1118741698.py:18: UserWarning: Implicit dimension choice for softmax has been deprecated. Change the call to include dim=X as an argument.\n",
      "  \"distribution\": torch.nn.functional.softmax(torch.rand(dist_size)),\n"
     ]
    },
    {
     "name": "stdout",
     "output_type": "stream",
     "text": [
      "Saved tree data to tree_data.json\n"
     ]
    }
   ],
   "source": [
    "def generate_random_binary_tree(num_nodes, tensor_size=784, dist_size=10):\n",
    "    \"\"\"\n",
    "    Generates a random binary tree with grayscale data.\n",
    "\n",
    "    Args:\n",
    "        num_nodes (int): Total nodes in the tree.\n",
    "        tensor_size (int): Size of the 1D tensor (for 2D image).\n",
    "        dist_size (int): Size of the 1D probability distribution tensor.\n",
    "\n",
    "    Returns:\n",
    "        dict: Root node of the generated binary tree.\n",
    "    \"\"\"\n",
    "    if num_nodes < 1:\n",
    "        return None\n",
    "\n",
    "    nodes = [{\"node_id\": str(random.randint(0, 1000000)), \n",
    "              \"data\": torch.nn.functional.sigmoid(torch.rand(tensor_size)), \n",
    "              \"distribution\": torch.nn.functional.softmax(torch.rand(dist_size)),\n",
    "              \"children\": []} for i in range(num_nodes)]\n",
    "    # arrange it into balanced binary tree\n",
    "    for i in range(num_nodes):\n",
    "        if 2*i+1 < num_nodes:\n",
    "            nodes[i][\"children\"].append(nodes[2*i+1])\n",
    "        if 2*i+2 < num_nodes:\n",
    "            nodes[i][\"children\"].append(nodes[2*i+2])\n",
    "    return nodes[0]\n",
    "    \n",
    "\n",
    "# Function to convert tensor data into a base64 grayscale image\n",
    "def tensor_to_base64(tensor, shape):\n",
    "    array = tensor.numpy().reshape(shape)\n",
    "    plt.imshow(array, cmap=\"gray\", aspect=\"auto\", interpolation=\"nearest\")\n",
    "    plt.axis(\"off\")\n",
    "\n",
    "    buf = BytesIO()\n",
    "    plt.savefig(buf, format=\"png\", bbox_inches=\"tight\", pad_inches=0)\n",
    "    plt.close()\n",
    "    \n",
    "    buf.seek(0)\n",
    "    return base64.b64encode(buf.getvalue()).decode(\"utf-8\")\n",
    "\n",
    "\n",
    "# Process the tree\n",
    "num_nodes = 500  # Adjust for a larger or smaller tree\n",
    "tree = generate_random_binary_tree(num_nodes)\n",
    "\n",
    "image_shape = (28, 28)  # Shape for 2D tensor visualization\n",
    "dist_shape = (1, 10)   # Shape for 1D probability distribution\n",
    "\n",
    "def process_tree(node):\n",
    "    if \"data\" in node:\n",
    "        node[\"image\"] = tensor_to_base64(node[\"data\"], image_shape)\n",
    "        del node[\"data\"]\n",
    "\n",
    "    if \"distribution\" in node:\n",
    "        node[\"dist_image\"] = tensor_to_base64(node[\"distribution\"], dist_shape)\n",
    "        del node[\"distribution\"]\n",
    "\n",
    "    for child in node.get(\"children\", []):\n",
    "        process_tree(child)\n",
    "\n",
    "    return node\n",
    "\n",
    "# Convert and save the tree\n",
    "tree_json = process_tree(tree)\n",
    "\n",
    "with open(\"tree_data.json\", \"w\") as f:\n",
    "    json.dump(tree_json, f, indent=2)\n",
    "\n",
    "print(\"Saved tree data to tree_data.json\")"
   ]
  },
  {
   "cell_type": "code",
   "execution_count": null,
   "metadata": {},
   "outputs": [],
   "source": []
  },
  {
   "cell_type": "code",
   "execution_count": null,
   "metadata": {},
   "outputs": [],
   "source": []
  },
  {
   "cell_type": "code",
   "execution_count": null,
   "metadata": {},
   "outputs": [],
   "source": []
  },
  {
   "cell_type": "code",
   "execution_count": null,
   "metadata": {},
   "outputs": [],
   "source": []
  }
 ],
 "metadata": {
  "kernelspec": {
   "display_name": "Python 3",
   "language": "python",
   "name": "python3"
  },
  "language_info": {
   "codemirror_mode": {
    "name": "ipython",
    "version": 3
   },
   "file_extension": ".py",
   "mimetype": "text/x-python",
   "name": "python",
   "nbconvert_exporter": "python",
   "pygments_lexer": "ipython3",
   "version": "3.13.1"
  }
 },
 "nbformat": 4,
 "nbformat_minor": 2
}
