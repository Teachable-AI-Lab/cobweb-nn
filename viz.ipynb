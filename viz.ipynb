{
 "cells": [
  {
   "cell_type": "code",
   "execution_count": 2,
   "metadata": {},
   "outputs": [],
   "source": [
    "import torch\n",
    "import networkx as nx\n",
    "from pyvis.network import Network\n",
    "import matplotlib.pyplot as plt\n",
    "import numpy as np\n",
    "import base64\n",
    "from io import BytesIO\n"
   ]
  },
  {
   "cell_type": "code",
   "execution_count": 3,
   "metadata": {},
   "outputs": [
    {
     "name": "stdout",
     "output_type": "stream",
     "text": [
      "Warning: When  cdn_resources is 'local' jupyter notebook has issues displaying graphics on chrome/safari. Use cdn_resources='in_line' or cdn_resources='remote' if you have issues viewing graphics in a notebook.\n",
      "tree_visualization.html\n"
     ]
    },
    {
     "data": {
      "text/html": [
       "\n",
       "        <iframe\n",
       "            width=\"100%\"\n",
       "            height=\"600px\"\n",
       "            src=\"tree_visualization.html\"\n",
       "            frameborder=\"0\"\n",
       "            allowfullscreen\n",
       "            \n",
       "        ></iframe>\n",
       "        "
      ],
      "text/plain": [
       "<IPython.lib.display.IFrame at 0x7fa5e4b1b9b0>"
      ]
     },
     "execution_count": 3,
     "metadata": {},
     "output_type": "execute_result"
    }
   ],
   "source": [
    "\n",
    "# Sample tree structure\n",
    "tree = {\n",
    "    \"node_id\": 1,\n",
    "    \"data\": torch.rand(16),  # Example 1D tensor\n",
    "    \"children\": [\n",
    "        {\n",
    "            \"node_id\": 2,\n",
    "            \"data\": torch.rand(16),\n",
    "            \"children\": []\n",
    "        },\n",
    "        {\n",
    "            \"node_id\": 3,\n",
    "            \"data\": torch.rand(16),\n",
    "            \"children\": []\n",
    "        }\n",
    "    ]\n",
    "}\n",
    "\n",
    "# Define the shape (e.g., 4x4 for 16 values)\n",
    "shape = (4, 4)\n",
    "\n",
    "\n",
    "# Function to convert tensor data into a grayscale image and return Base64 encoding\n",
    "def tensor_to_image_base64(tensor, shape):\n",
    "    array = tensor.numpy().reshape(shape)  # Reshape to 2D\n",
    "    plt.imshow(array, cmap=\"gray\", interpolation=\"nearest\")\n",
    "    plt.axis(\"off\")\n",
    "\n",
    "    buf = BytesIO()\n",
    "    plt.savefig(buf, format=\"png\", bbox_inches=\"tight\", pad_inches=0)\n",
    "    plt.close()\n",
    "    \n",
    "    buf.seek(0)\n",
    "    return base64.b64encode(buf.getvalue()).decode(\"utf-8\")\n",
    "\n",
    "\n",
    "# Function to build tree graph in NetworkX\n",
    "def build_graph(graph, node, parent=None):\n",
    "    node_id = node[\"node_id\"]\n",
    "    img_data = tensor_to_image_base64(node[\"data\"], shape)\n",
    "    \n",
    "    # Add node with image tooltip\n",
    "    graph.add_node(node_id, title=f'<img src=\"data:image/png;base64,{img_data}\" width=\"100\">')\n",
    "\n",
    "    # Add edge if there's a parent\n",
    "    if parent is not None:\n",
    "        graph.add_edge(parent, node_id)\n",
    "\n",
    "    # Recursively add children\n",
    "    for child in node[\"children\"]:\n",
    "        build_graph(graph, child, node_id)\n",
    "\n",
    "\n",
    "# Create NetworkX graph\n",
    "G = nx.DiGraph()\n",
    "build_graph(G, tree)\n",
    "\n",
    "# Convert to Pyvis\n",
    "net = Network(notebook=True, directed=True)\n",
    "net.from_nx(G)\n",
    "\n",
    "# Customize node appearance\n",
    "for node in net.nodes:\n",
    "    node[\"shape\"] = \"image\"\n",
    "    node[\"size\"] = 20  # Node size\n",
    "\n",
    "# Save and display\n",
    "net.show(\"tree_visualization.html\")"
   ]
  },
  {
   "cell_type": "code",
   "execution_count": null,
   "metadata": {},
   "outputs": [],
   "source": []
  },
  {
   "cell_type": "code",
   "execution_count": null,
   "metadata": {},
   "outputs": [],
   "source": []
  },
  {
   "cell_type": "code",
   "execution_count": null,
   "metadata": {},
   "outputs": [],
   "source": []
  },
  {
   "cell_type": "code",
   "execution_count": null,
   "metadata": {},
   "outputs": [],
   "source": []
  }
 ],
 "metadata": {
  "kernelspec": {
   "display_name": "hl-env",
   "language": "python",
   "name": "python3"
  },
  "language_info": {
   "codemirror_mode": {
    "name": "ipython",
    "version": 3
   },
   "file_extension": ".py",
   "mimetype": "text/x-python",
   "name": "python",
   "nbconvert_exporter": "python",
   "pygments_lexer": "ipython3",
   "version": "3.12.4"
  }
 },
 "nbformat": 4,
 "nbformat_minor": 2
}
